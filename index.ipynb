{
 "cells": [
  {
   "cell_type": "markdown",
   "metadata": {},
   "source": [
    "## Machine Learning with Spark - Lab\n",
    "\n",
    "## Introduction\n",
    "\n",
    "In the previous lesson, you saw how to manipulate data with Spark DataFrames as well as create machine learning models. In this lab, you're going to practice loading data, manipulating it, and fitting it in the Spark framework. Afterward, you're going to make use of different visualizations to see if you can get any insights from the model. This dataset is from a Taiwanese financial company, and the task is to determine which individuals are going to default on their credit card based off of characteristics such as limit balance, past payment history, age, marriage status, and sex. Let's get started!\n",
    "\n",
    "### Objectives\n",
    "\n",
    "In this lab you will: \n",
    "\n",
    "- Load and manipulate data using Spark DataFrames \n",
    "- Create a Spark ML pipeline that transforms data and runs over a grid of hyperparameters "
   ]
  },
  {
   "cell_type": "markdown",
   "metadata": {},
   "source": [
    "To begin with create a SparkSession and import the `'credit_card_default.csv'` file  into a PySpark DataFrame. "
   ]
  },
  {
   "cell_type": "code",
   "execution_count": 1,
   "metadata": {},
   "outputs": [],
   "source": [
    "# import necessary libraries\n",
    "from pyspark import SparkContext\n",
    "from pyspark.sql import SparkSession\n",
    "\n",
    "# initialize Spark Session\n",
    "spark = SparkSession.builder.master('local').getOrCreate()\n",
    "\n",
    "# read in csv to a spark dataframe\n",
    "spark_df = spark.read.csv('credit_card_default.csv', header='true', inferSchema='true')"
   ]
  },
  {
   "cell_type": "markdown",
   "metadata": {},
   "source": [
    "Check the datatypes to ensure that all columns are the datatype you expect."
   ]
  },
  {
   "cell_type": "code",
   "execution_count": 2,
   "metadata": {},
   "outputs": [
    {
     "data": {
      "text/plain": [
       "[('ID', 'int'),\n",
       " ('LIMIT_BAL', 'double'),\n",
       " ('SEX', 'string'),\n",
       " ('EDUCATION', 'string'),\n",
       " ('MARRIAGE', 'string'),\n",
       " ('AGE', 'int'),\n",
       " ('PAY_0', 'int'),\n",
       " ('PAY_2', 'int'),\n",
       " ('PAY_3', 'int'),\n",
       " ('PAY_4', 'int'),\n",
       " ('PAY_5', 'int'),\n",
       " ('PAY_6', 'int'),\n",
       " ('BILL_AMT1', 'double'),\n",
       " ('BILL_AMT2', 'double'),\n",
       " ('BILL_AMT3', 'double'),\n",
       " ('BILL_AMT4', 'double'),\n",
       " ('BILL_AMT5', 'double'),\n",
       " ('BILL_AMT6', 'double'),\n",
       " ('PAY_AMT1', 'double'),\n",
       " ('PAY_AMT2', 'double'),\n",
       " ('PAY_AMT3', 'double'),\n",
       " ('PAY_AMT4', 'double'),\n",
       " ('PAY_AMT5', 'double'),\n",
       " ('PAY_AMT6', 'double'),\n",
       " ('default', 'int')]"
      ]
     },
     "execution_count": 2,
     "metadata": {},
     "output_type": "execute_result"
    }
   ],
   "source": [
    "spark_df.dtypes"
   ]
  },
  {
   "cell_type": "markdown",
   "metadata": {},
   "source": [
    "Check to see how many missing values are in the dataset. This will require using the `.filter()` , `.isNull()`, and `.count()` methods."
   ]
  },
  {
   "cell_type": "code",
   "execution_count": 3,
   "metadata": {},
   "outputs": [
    {
     "name": "stdout",
     "output_type": "stream",
     "text": [
      "column ID 0\n",
      "column LIMIT_BAL 0\n",
      "column SEX 0\n",
      "column EDUCATION 0\n",
      "column MARRIAGE 0\n",
      "column AGE 0\n",
      "column PAY_0 0\n",
      "column PAY_2 0\n",
      "column PAY_3 0\n",
      "column PAY_4 0\n",
      "column PAY_5 0\n",
      "column PAY_6 0\n",
      "column BILL_AMT1 0\n",
      "column BILL_AMT2 0\n",
      "column BILL_AMT3 0\n",
      "column BILL_AMT4 0\n",
      "column BILL_AMT5 0\n",
      "column BILL_AMT6 0\n",
      "column PAY_AMT1 0\n",
      "column PAY_AMT2 0\n",
      "column PAY_AMT3 0\n",
      "column PAY_AMT4 0\n",
      "column PAY_AMT5 0\n",
      "column PAY_AMT6 0\n",
      "column default 0\n"
     ]
    }
   ],
   "source": [
    "for col in spark_df.columns:\n",
    "    # your code here\n",
    "    print(f\"column {col} {spark_df.filter(spark_df[col].isNull()).count()}\")"
   ]
  },
  {
   "cell_type": "markdown",
   "metadata": {},
   "source": [
    "Now, determine how many categories there are in each of the categorical columns."
   ]
  },
  {
   "cell_type": "code",
   "execution_count": 4,
   "metadata": {},
   "outputs": [
    {
     "name": "stdout",
     "output_type": "stream",
     "text": [
      "Feature SEX has: [Row(SEX='Female'), Row(SEX='Male')]\n",
      "Feature EDUCATION has: [Row(EDUCATION='High School'), Row(EDUCATION='0'), Row(EDUCATION='5'), Row(EDUCATION='6'), Row(EDUCATION='Other'), Row(EDUCATION='Graduate'), Row(EDUCATION='College')]\n",
      "Feature MARRIAGE has: [Row(MARRIAGE='0'), Row(MARRIAGE='Other'), Row(MARRIAGE='Married'), Row(MARRIAGE='Single')]\n"
     ]
    }
   ],
   "source": [
    "for column, data_type in spark_df.dtypes:\n",
    "   # your code here\n",
    "    if data_type == 'string':\n",
    "#         print(f\"column {column} {data_type}\")\n",
    "        print(f\"Feature {column} has: {spark_df.select(column).distinct().collect()}\")"
   ]
  },
  {
   "cell_type": "markdown",
   "metadata": {},
   "source": [
    "Interesting... it looks like we have some extraneous values in each of our categories. Let's look at some visualizations of each of these to determine just how many of them there are. Create bar plots of the variables `'EDUCATION'` and `'MARRIAGE'` to see how many of the undefined values there are. After doing so, come up with a strategy for accounting for the extra values."
   ]
  },
  {
   "cell_type": "code",
   "execution_count": 5,
   "metadata": {},
   "outputs": [],
   "source": [
    "import seaborn as sns\n",
    "import matplotlib.pyplot as plt\n",
    "\n",
    "def barplot_cat_counts(cat_counts, xlabel=None, title=None):\n",
    "    fig = plt.figure(figsize=(10,8))\n",
    "    sns.barplot(\n",
    "        x=[cat_count[0] for cat_count in cat_counts], \n",
    "        y=[cat_count[1] for cat_count in cat_counts]\n",
    "    )\n",
    "    if xlabel is not None:\n",
    "        plt.xlabel(xlabel)\n",
    "    if title is not None:\n",
    "        plt.title(title)\n",
    "    plt.ylabel('Count')\n",
    "    fig.tight_layout()\n",
    "    plt.show()"
   ]
  },
  {
   "cell_type": "code",
   "execution_count": 6,
   "metadata": {},
   "outputs": [
    {
     "data": {
      "image/png": "[encoded data removed]",
      "text/plain": [
       "<Figure size 720x576 with 1 Axes>"
      ]
     },
     "metadata": {
      "needs_background": "light"
     },
     "output_type": "display_data"
    }
   ],
   "source": [
    "## plotting the categories for education\n",
    "barplot_cat_counts(\n",
    "    spark_df.groupBy('EDUCATION').count().collect(),\n",
    "    xlabel='Education'\n",
    ")"
   ]
  },
  {
   "cell_type": "code",
   "execution_count": 7,
   "metadata": {},
   "outputs": [
    {
     "data": {
      "image/png": "[encoded data removed]",
      "text/plain": [
       "<Figure size 720x576 with 1 Axes>"
      ]
     },
     "metadata": {
      "needs_background": "light"
     },
     "output_type": "display_data"
    }
   ],
   "source": [
    "barplot_cat_counts(\n",
    "    spark_df.groupBy('MARRIAGE').count().collect(),\n",
    "    xlabel='Marriage'\n",
    ")"
   ]
  },
  {
   "cell_type": "markdown",
   "metadata": {},
   "source": [
    "It looks like there are barely any of the 0 and 5 categories. We can go ahead and throw them into the \"Other\" category since it's already operating as a catchall here. Similarly, the category \"0\" looks small, so let's throw it in with the \"Other\" values. You can do this by using a method called `.when()` from PySpark in conjunction with `.withColumn()` and `.otherwise()`.  "
   ]
  },
  {
   "cell_type": "code",
   "execution_count": 8,
   "metadata": {},
   "outputs": [],
   "source": [
    "from pyspark.sql.functions import when\n",
    "\n",
    "## changing the values in the education column\n",
    "spark_df_edu_0_5_6_to_Other = spark_df.withColumn(\n",
    "    'EDUCATION',\n",
    "    when(spark_df.EDUCATION=='0', 'Other') \\\n",
    "        .when(spark_df.EDUCATION=='5', 'Other') \\\n",
    "        .when(spark_df.EDUCATION=='6', 'Other') \\\n",
    "        .otherwise(spark_df['EDUCATION'])\n",
    ")\n",
    "\n",
    "## changing the values in the marriage column\n",
    "spark_df_done = spark_df_edu_0_5_6_to_Other.withColumn(\n",
    "    'MARRIAGE',\n",
    "    when(spark_df.MARRIAGE=='0', 'Other') \\\n",
    "        .otherwise(spark_df['MARRIAGE'])\n",
    ")"
   ]
  },
  {
   "cell_type": "code",
   "execution_count": 9,
   "metadata": {},
   "outputs": [
    {
     "data": {
      "text/plain": [
       "Row(ID=2, LIMIT_BAL=120000.0, SEX='Female', EDUCATION='College', MARRIAGE='Single', AGE=26, PAY_0=-1, PAY_2=2, PAY_3=0, PAY_4=0, PAY_5=0, PAY_6=2, BILL_AMT1=2682.0, BILL_AMT2=1725.0, BILL_AMT3=2682.0, BILL_AMT4=3272.0, BILL_AMT5=3455.0, BILL_AMT6=3261.0, PAY_AMT1=0.0, PAY_AMT2=1000.0, PAY_AMT3=1000.0, PAY_AMT4=1000.0, PAY_AMT5=0.0, PAY_AMT6=2000.0, default=1)"
      ]
     },
     "execution_count": 9,
     "metadata": {},
     "output_type": "execute_result"
    }
   ],
   "source": [
    "spark_df_done.head()"
   ]
  },
  {
   "cell_type": "markdown",
   "metadata": {},
   "source": [
    "Now let's take a look at all the values contained in the categorical columns of the DataFrame: "
   ]
  },
  {
   "cell_type": "code",
   "execution_count": 10,
   "metadata": {},
   "outputs": [
    {
     "name": "stdout",
     "output_type": "stream",
     "text": [
      "Feature SEX has: [Row(SEX='Female'), Row(SEX='Male')]\n",
      "Feature EDUCATION has: [Row(EDUCATION='High School'), Row(EDUCATION='Other'), Row(EDUCATION='Graduate'), Row(EDUCATION='College')]\n",
      "Feature MARRIAGE has: [Row(MARRIAGE='Other'), Row(MARRIAGE='Married'), Row(MARRIAGE='Single')]\n"
     ]
    }
   ],
   "source": [
    "for column, data_type in spark_df_done.dtypes:\n",
    "   # your code here\n",
    "    if data_type == 'string':\n",
    "#         print(f\"column {column} {data_type}\")\n",
    "        print(f\"Feature {column} has: {spark_df_done.select(column).distinct().collect()}\")"
   ]
  },
  {
   "cell_type": "markdown",
   "metadata": {},
   "source": [
    "Much better. Now, let's do a little more investigation into our target variable before diving into the machine learning aspect of this project."
   ]
  },
  {
   "cell_type": "markdown",
   "metadata": {},
   "source": [
    "##  EDA\n",
    "\n",
    "Let's first look at the overall distribution of class balance of the default and not default labels. Create a barplot to compare the number of defaults vs. non-defaults. This will require using `.groupBy()` as well as an aggregation method."
   ]
  },
  {
   "cell_type": "code",
   "execution_count": 11,
   "metadata": {},
   "outputs": [
    {
     "data": {
      "image/png": "[encoded data removed]",
      "text/plain": [
       "<Figure size 720x576 with 1 Axes>"
      ]
     },
     "metadata": {
      "needs_background": "light"
     },
     "output_type": "display_data"
    }
   ],
   "source": [
    "barplot_cat_counts(\n",
    "    spark_df_done.groupBy('default').count().collect(),\n",
    "    xlabel='DEFAULTED'\n",
    ")"
   ]
  },
  {
   "cell_type": "markdown",
   "metadata": {},
   "source": [
    "Let's also visualize the difference in default rate between males and females in this dataset."
   ]
  },
  {
   "cell_type": "code",
   "execution_count": 12,
   "metadata": {},
   "outputs": [
    {
     "data": {
      "text/plain": [
       "[Row(default=1, SEX='Female', count=3762),\n",
       " Row(default=0, SEX='Male', count=9015),\n",
       " Row(default=1, SEX='Male', count=2873),\n",
       " Row(default=0, SEX='Female', count=14349)]"
      ]
     },
     "execution_count": 12,
     "metadata": {},
     "output_type": "execute_result"
    }
   ],
   "source": [
    "# perform a groupby for default and sex\n",
    "dflt_sex_cat_counts = spark_df_done.groupBy(['default', 'SEX']).count().collect()\n",
    "dflt_sex_cat_counts"
   ]
  },
  {
   "cell_type": "code",
   "execution_count": 13,
   "metadata": {},
   "outputs": [
    {
     "data": {
      "image/png": "[encoded data removed]",
      "text/plain": [
       "<Figure size 720x576 with 1 Axes>"
      ]
     },
     "metadata": {
      "needs_background": "light"
     },
     "output_type": "display_data"
    }
   ],
   "source": [
    "spark_df_done.createOrReplaceTempView(\"cc_dflt\")\n",
    "\n",
    "# make barplot for female default v no default rate\n",
    "spdf_female = spark.sql(\"SELECT * FROM cc_dflt WHERE SEX=='Female'\")\n",
    "barplot_cat_counts(\n",
    "    spdf_female.groupBy('default').count().collect(),\n",
    "    xlabel='DEFAULTED',\n",
    "    title='Female'\n",
    ")"
   ]
  },
  {
   "cell_type": "code",
   "execution_count": 14,
   "metadata": {},
   "outputs": [
    {
     "data": {
      "image/png": "[encoded data removed]",
      "text/plain": [
       "<Figure size 720x576 with 1 Axes>"
      ]
     },
     "metadata": {
      "needs_background": "light"
     },
     "output_type": "display_data"
    }
   ],
   "source": [
    "# make barplot for male default v no default rate\n",
    "spdf_male = spark.sql(\"SELECT * FROM cc_dflt WHERE SEX=='Male'\")\n",
    "barplot_cat_counts(\n",
    "    spdf_male.groupBy('default').count().collect(),\n",
    "    xlabel='DEFAULTED',\n",
    "    title='Male'\n",
    ")"
   ]
  },
  {
   "cell_type": "markdown",
   "metadata": {},
   "source": [
    "It looks like males have an ever so slightly higher default rate than females."
   ]
  },
  {
   "cell_type": "markdown",
   "metadata": {},
   "source": [
    "## Onto the Machine Learning!"
   ]
  },
  {
   "cell_type": "markdown",
   "metadata": {},
   "source": [
    "Now, it's time to fit the data to the PySpark machine learning model pipeline. You will need:\n",
    "\n",
    "* 3 StringIndexers (for each categorical feature)\n",
    "* A OneHotEncoderEstimator (to encode the newly indexed strings into categorical variables)\n",
    "* A VectorAssembler (to combine all features into one SparseVector)\n",
    "\n",
    "All of these initialized estimators should be stored in a list."
   ]
  },
  {
   "cell_type": "code",
   "execution_count": 15,
   "metadata": {},
   "outputs": [
    {
     "name": "stdout",
     "output_type": "stream",
     "text": [
      "model_predictors (23): ['LIMIT_BAL', 'AGE', 'PAY_0', 'PAY_2', 'PAY_3', 'PAY_4', 'PAY_5', 'PAY_6', 'BILL_AMT1', 'BILL_AMT2', 'BILL_AMT3', 'BILL_AMT4', 'BILL_AMT5', 'BILL_AMT6', 'PAY_AMT1', 'PAY_AMT2', 'PAY_AMT3', 'PAY_AMT4', 'PAY_AMT5', 'PAY_AMT6', 'SEX_idxd_ohe', 'EDUCATION_idxd_ohe', 'MARRIAGE_idxd_ohe']\n"
     ]
    }
   ],
   "source": [
    "# importing the necessary modules\n",
    "from pyspark.ml.feature import StringIndexer, VectorAssembler, OneHotEncoder\n",
    "\n",
    "# creating the string indexers\n",
    "string_indexers = []\n",
    "non_cat_predictors = []\n",
    "for column, data_type in spark_df_done.dtypes:\n",
    "    if data_type == 'string':\n",
    "        string_indexers.append(StringIndexer(inputCol=column, outputCol=column+'_idxd', handleInvalid='keep'))\n",
    "    else:\n",
    "        non_cat_predictors.append(column)\n",
    "non_cat_predictors.remove('ID')\n",
    "non_cat_predictors.remove('default')\n",
    "# print(f\"non_cat_predictors ({len(non_cat_predictors)}): {non_cat_predictors}\")\n",
    "\n",
    "output_indexed_cols = [string_indexer.getOutputCol() for string_indexer in string_indexers]\n",
    "# print(f\"output_indexed_cols ({len(output_indexed_cols)}): {output_indexed_cols}\")\n",
    "ohe = OneHotEncoder(\n",
    "    inputCols=output_indexed_cols,\n",
    "    outputCols=[col + '_ohe' for col in output_indexed_cols],\n",
    "    dropLast=True,\n",
    "    handleInvalid='error'\n",
    ")\n",
    "# print(f\"ohe.getDropLast(): {ohe.getDropLast()}\")\n",
    "# print(f\"ohe.getOutputCols() ({len(ohe.getOutputCols())}): {ohe.getOutputCols()}\")\n",
    "\n",
    "# features to be included in the model\n",
    "model_predictors = non_cat_predictors.copy()\n",
    "\n",
    "# adding the categorical features\n",
    "model_predictors.extend(ohe.getOutputCols())\n",
    "print(f\"model_predictors ({len(model_predictors)}): {model_predictors}\")\n",
    "\n",
    "# putting all of the features into a single vector\n",
    "vector_assembler = VectorAssembler(inputCols=model_predictors, outputCol='features_vector')"
   ]
  },
  {
   "cell_type": "markdown",
   "metadata": {},
   "source": [
    "Alright! Now let's see if that worked. Let's investigate how it transforms your dataset. Put all of the stages in a Pipeline and fit it to your data. Look at the features column. Did you obtain the number of features you expected?"
   ]
  },
  {
   "cell_type": "code",
   "execution_count": 16,
   "metadata": {},
   "outputs": [],
   "source": [
    "from pyspark.ml.pipeline import Pipeline\n",
    "\n",
    "pipeline = Pipeline(stages=string_indexers+[ohe]+[vector_assembler])\n",
    "pipeline_model = pipeline.fit(spark_df_done)\n",
    "transformed_data = pipeline_model.transform(spark_df_done)\n",
    "spdf_transformed_data = transformed_data.select('features_vector')"
   ]
  },
  {
   "cell_type": "code",
   "execution_count": 17,
   "metadata": {},
   "outputs": [
    {
     "name": "stdout",
     "output_type": "stream",
     "text": [
      "cols expected (26):\n",
      "\tLIMIT_BAL\n",
      "\tAGE\n",
      "\tPAY_0\n",
      "\tPAY_2\n",
      "\tPAY_3\n",
      "\tPAY_4\n",
      "\tPAY_5\n",
      "\tPAY_6\n",
      "\tBILL_AMT1\n",
      "\tBILL_AMT2\n",
      "\tBILL_AMT3\n",
      "\tBILL_AMT4\n",
      "\tBILL_AMT5\n",
      "\tBILL_AMT6\n",
      "\tPAY_AMT1\n",
      "\tPAY_AMT2\n",
      "\tPAY_AMT3\n",
      "\tPAY_AMT4\n",
      "\tPAY_AMT5\n",
      "\tPAY_AMT6\n",
      "\tSEX_idxd_ohe_Female\n",
      "\tEDUCATION_idxd_ohe_College\n",
      "\tEDUCATION_idxd_ohe_Graduate\n",
      "\tEDUCATION_idxd_ohe_High School\n",
      "\tMARRIAGE_idxd_ohe_Single\n",
      "\tMARRIAGE_idxd_ohe_Married\n"
     ]
    }
   ],
   "source": [
    "cols_expected = non_cat_predictors + [\n",
    "    'SEX_idxd_ohe_Female', \n",
    "    'EDUCATION_idxd_ohe_College', \n",
    "    'EDUCATION_idxd_ohe_Graduate',\n",
    "    'EDUCATION_idxd_ohe_High School',\n",
    "    'MARRIAGE_idxd_ohe_Single',\n",
    "    'MARRIAGE_idxd_ohe_Married'\n",
    "]\n",
    "\n",
    "print(f\"cols expected ({len(cols_expected)}):\")\n",
    "for col_expected in cols_expected:\n",
    "    print(f\"\\t{col_expected}\")"
   ]
  },
  {
   "cell_type": "code",
   "execution_count": 18,
   "metadata": {},
   "outputs": [],
   "source": [
    "# credit to https://stackoverflow.com/a/42959818 for this solution\n",
    "from itertools import chain\n",
    "def extract_feature_names_from_transformed_data(transformed_data):\n",
    "    return sorted((attr[\"idx\"], attr[\"name\"]) for attr in (chain(*transformed_data.schema[-1].metadata[\"ml_attr\"][\"attrs\"].values())))"
   ]
  },
  {
   "cell_type": "code",
   "execution_count": 19,
   "metadata": {},
   "outputs": [
    {
     "name": "stdout",
     "output_type": "stream",
     "text": [
      "Row(features_vector=SparseVector(29, {0: 120000.0, 1: 26.0, 2: -1.0, 3: 2.0, 7: 2.0, 8: 2682.0, 9: 1725.0, 10: 2682.0, 11: 3272.0, 12: 3455.0, 13: 3261.0, 15: 1000.0, 16: 1000.0, 17: 1000.0, 19: 2000.0, 20: 1.0, 22: 1.0, 26: 1.0}))\n",
      "\n",
      "transformed/output cols (29):\n",
      "\tLIMIT_BAL\n",
      "\tAGE\n",
      "\tPAY_0\n",
      "\tPAY_2\n",
      "\tPAY_3\n",
      "\tPAY_4\n",
      "\tPAY_5\n",
      "\tPAY_6\n",
      "\tBILL_AMT1\n",
      "\tBILL_AMT2\n",
      "\tBILL_AMT3\n",
      "\tBILL_AMT4\n",
      "\tBILL_AMT5\n",
      "\tBILL_AMT6\n",
      "\tPAY_AMT1\n",
      "\tPAY_AMT2\n",
      "\tPAY_AMT3\n",
      "\tPAY_AMT4\n",
      "\tPAY_AMT5\n",
      "\tPAY_AMT6\n",
      "\tSEX_idxd_ohe_Female\n",
      "\tSEX_idxd_ohe_Male\n",
      "\tEDUCATION_idxd_ohe_College\n",
      "\tEDUCATION_idxd_ohe_Graduate\n",
      "\tEDUCATION_idxd_ohe_High School\n",
      "\tEDUCATION_idxd_ohe_Other\n",
      "\tMARRIAGE_idxd_ohe_Single\n",
      "\tMARRIAGE_idxd_ohe_Married\n",
      "\tMARRIAGE_idxd_ohe_Other\n"
     ]
    }
   ],
   "source": [
    "print(f\"{spdf_transformed_data.head()}\\n\")\n",
    "\n",
    "extracted_feat_names = extract_feature_names_from_transformed_data(transformed_data)\n",
    "print(f\"transformed/output cols ({len(extracted_feat_names)}):\")\n",
    "for idx, feat_name in extracted_feat_names:\n",
    "    print(f\"\\t{feat_name}\")"
   ]
  },
  {
   "cell_type": "code",
   "execution_count": 20,
   "metadata": {},
   "outputs": [],
   "source": [
    "def compare_extracted_to_expected_feats(extracted_feat_names, cols_expected):\n",
    "    if len(extracted_feat_names) != len(cols_expected):\n",
    "        if len(cols_expected) > len(extracted_feat_names):\n",
    "            (bigger_set, smaller_set) = (set(cols_expected), set(map(lambda t: t[1], extracted_feat_names)))\n",
    "            (s_bigger_set, s_smaller_set) = (\"cols expected\", \"transformed/output cols\")\n",
    "        else:\n",
    "            (bigger_set, smaller_set) = (set(map(lambda t: t[1], extracted_feat_names)), set(cols_expected))\n",
    "            (s_bigger_set, s_smaller_set) = (\"transformed/output cols\", \"cols expected\")\n",
    "        extra_cols = bigger_set - smaller_set\n",
    "        print(f\"{s_bigger_set} has {len(extra_cols)} more cols than {s_smaller_set}:\")\n",
    "        for extra_col in extra_cols:\n",
    "            print(f\"\\t{extra_col}\")\n",
    "    else:\n",
    "        print(f\"transformed/output and expected cols are the same\")"
   ]
  },
  {
   "cell_type": "code",
   "execution_count": 21,
   "metadata": {},
   "outputs": [
    {
     "name": "stdout",
     "output_type": "stream",
     "text": [
      "transformed/output cols has 3 more cols than cols expected:\n",
      "\tSEX_idxd_ohe_Male\n",
      "\tMARRIAGE_idxd_ohe_Other\n",
      "\tEDUCATION_idxd_ohe_Other\n"
     ]
    }
   ],
   "source": [
    "compare_extracted_to_expected_feats(extracted_feat_names, cols_expected)"
   ]
  },
  {
   "cell_type": "code",
   "execution_count": 22,
   "metadata": {},
   "outputs": [],
   "source": [
    "# note that it appears there is a bug in OneHotEncoder: dropLast=True is not having any effect\n",
    "#    so let's build our own custom Transformer to accomplish what OneHotEncoder.dropLast is supposed to do\n",
    "#    until the bug in OneHotEncoder is fixed, this should be used AFTER call transform on a OneHotEncoder object\n",
    "#       in order to accomplish what dropLast=True should\n",
    "\n",
    "from pyspark.ml import Transformer\n",
    "from typing import Iterable\n",
    "from pyspark.sql import DataFrame\n",
    "from pyspark.sql.types import Row\n",
    "from pyspark.sql import functions as pssqlfuncs\n",
    "from pyspark.sql.types import IntegerType, DoubleType, ArrayType\n",
    "\n",
    "from pyspark.ml.feature import VectorSlicer\n",
    "from pyspark.ml.functions import vector_to_array\n",
    "from pyspark.ml.linalg import Vectors, VectorUDT\n",
    "\n",
    "class OneHotEncodedLastDropper(Transformer):\n",
    "    \"\"\"\n",
    "    A custom Transformer which drops the last column after OneHotEncoder.transform() has been applied.\n",
    "    \"\"\"\n",
    "\n",
    "    def __init__(self, ohe: OneHotEncoder):\n",
    "        super(OneHotEncodedLastDropper, self).__init__()\n",
    "        self.ohe = ohe\n",
    "        \n",
    "    def _transform(self, df: DataFrame) -> DataFrame:\n",
    "        for ohe_col in self.ohe.getOutputCols():\n",
    "            if ohe_col in df.columns:\n",
    "                # here is the secret sauce wherein we explode the VectorUDT, drop the last col\n",
    "                #    then we put the remaining cols back into a VectorUDT in the dataframe\n",
    "                rdd_new_ohe_col = df[['ID', ohe_col]].rdd.map(lambda r: [r[0], Vectors.dense(r[1].toArray().tolist()[:-1])])\n",
    "                df_new_ohe_col = rdd_new_ohe_col.toDF(['ID', ohe_col])\n",
    "                df_ohe_col_dropped = df.drop(ohe_col)\n",
    "                df_ohe_col_dropped.createOrReplaceTempView(\"DF_OHE_COL_DROPPED\")\n",
    "                df_new_ohe_col.createOrReplaceTempView(\"DF_NEW_OHE_COL\")\n",
    "                df_new = spark.sql(f\"\"\"\n",
    "                    SELECT \n",
    "                        D.*, N.{ohe_col}\n",
    "                    FROM \n",
    "                        DF_OHE_COL_DROPPED D, DF_NEW_OHE_COL N \n",
    "                    WHERE D.ID == N.ID\n",
    "                \"\"\")\n",
    "                df = df_new\n",
    "            \n",
    "        return df"
   ]
  },
  {
   "cell_type": "code",
   "execution_count": 23,
   "metadata": {
    "scrolled": false
   },
   "outputs": [],
   "source": [
    "# # creating the string indexers\n",
    "# string_indexers = []\n",
    "# non_cat_predictors = []\n",
    "# for column, data_type in spark_df_done.dtypes:\n",
    "#     if data_type == 'string':\n",
    "#         string_indexers_2.append(StringIndexer(inputCol=column, outputCol=column+'_idxd', handleInvalid='keep'))\n",
    "#     else:\n",
    "#         non_cat_predictors_2.append(column)\n",
    "# non_cat_predictors_2.remove('ID')\n",
    "# non_cat_predictors_2.remove('default') # 'default' is the target\n",
    "\n",
    "# output_indexed_cols = [string_indexer.getOutputCol() for string_indexer in string_indexers]\n",
    "# # print(f\"output_indexed_cols ({len(output_indexed_cols)}): {output_indexed_cols}\")\n",
    "# ohe = OneHotEncoder(\n",
    "#     inputCols=output_indexed_cols,\n",
    "#     outputCols=[col + '_ohe' for col in output_indexed_cols],\n",
    "#     dropLast=True, # this does nothing\n",
    "#     handleInvalid='error'\n",
    "# )\n",
    "\n",
    "ohe_last_dropper = OneHotEncodedLastDropper(ohe)\n",
    "\n",
    "# # features to be included in the model\n",
    "# model_predictors = non_cat_predictors.copy()\n",
    "\n",
    "# # adding the categorical features\n",
    "# model_predictors.extend(ohe.getOutputCols())\n",
    "\n",
    "# # putting all of the features into a single vector\n",
    "# vector_assembler = VectorAssembler(inputCols=model_predictors, outputCol='features_vector')\n",
    "\n",
    "pipeline_2 = Pipeline(stages=string_indexers+[ohe]+[ohe_last_dropper]+[vector_assembler])\n",
    "pipeline_model_2 = pipeline_2.fit(spark_df_done)\n",
    "transformed_data_2 = pipeline_model_2.transform(spark_df_done)\n",
    "spdf_transformed_data_2 = transformed_data_2.select('features_vector')"
   ]
  },
  {
   "cell_type": "code",
   "execution_count": 24,
   "metadata": {},
   "outputs": [
    {
     "name": "stdout",
     "output_type": "stream",
     "text": [
      "Row(features_vector=SparseVector(26, {0: 50000.0, 1: 23.0, 8: 47620.0, 9: 41810.0, 10: 36023.0, 11: 28967.0, 12: 29829.0, 13: 30046.0, 14: 1973.0, 15: 1426.0, 16: 1001.0, 17: 1432.0, 18: 1062.0, 19: 997.0, 23: 1.0, 24: 1.0}))\n",
      "\n",
      "transformed/output cols (26):\n",
      "\tLIMIT_BAL\n",
      "\tAGE\n",
      "\tPAY_0\n",
      "\tPAY_2\n",
      "\tPAY_3\n",
      "\tPAY_4\n",
      "\tPAY_5\n",
      "\tPAY_6\n",
      "\tBILL_AMT1\n",
      "\tBILL_AMT2\n",
      "\tBILL_AMT3\n",
      "\tBILL_AMT4\n",
      "\tBILL_AMT5\n",
      "\tBILL_AMT6\n",
      "\tPAY_AMT1\n",
      "\tPAY_AMT2\n",
      "\tPAY_AMT3\n",
      "\tPAY_AMT4\n",
      "\tPAY_AMT5\n",
      "\tPAY_AMT6\n",
      "\tSEX_idxd_ohe_0\n",
      "\tEDUCATION_idxd_ohe_0\n",
      "\tEDUCATION_idxd_ohe_1\n",
      "\tEDUCATION_idxd_ohe_2\n",
      "\tMARRIAGE_idxd_ohe_0\n",
      "\tMARRIAGE_idxd_ohe_1\n"
     ]
    }
   ],
   "source": [
    "print(f\"{spdf_transformed_data_2.head()}\\n\")\n",
    "\n",
    "extracted_feat_names_2 = extract_feature_names_from_transformed_data(transformed_data_2)\n",
    "print(f\"transformed/output cols ({len(extracted_feat_names_2)}):\")\n",
    "for idx, feat_name in extracted_feat_names_2:\n",
    "    print(f\"\\t{feat_name}\")"
   ]
  },
  {
   "cell_type": "code",
   "execution_count": 25,
   "metadata": {},
   "outputs": [
    {
     "name": "stdout",
     "output_type": "stream",
     "text": [
      "transformed/output and expected cols are the same\n"
     ]
    }
   ],
   "source": [
    "compare_extracted_to_expected_feats(extracted_feat_names_2, cols_expected)"
   ]
  },
  {
   "cell_type": "markdown",
   "metadata": {},
   "source": [
    "## Fitting Machine Learning Models\n",
    "That looks good! Now let's go ahead and fit data to different machine learning models. To evaluate these models, you should use the `BinaryClassificationEvaluator`. Below is an import of all the classes and libraries you'll need in the remainder of this lab."
   ]
  },
  {
   "cell_type": "code",
   "execution_count": 26,
   "metadata": {},
   "outputs": [],
   "source": [
    "from pyspark.ml.classification import GBTClassifier, DecisionTreeClassifier, LogisticRegression, RandomForestClassifier\n",
    "from pyspark.ml.tuning import ParamGridBuilder, CrossValidator, TrainValidationSplit\n",
    "from pyspark.ml.evaluation import BinaryClassificationEvaluator\n",
    "import numpy as np"
   ]
  },
  {
   "cell_type": "markdown",
   "metadata": {},
   "source": [
    "### Logistic Regression\n",
    "\n",
    "First, we'll try with a simple Logistic Regression Model:\n",
    "\n",
    "* instantiate a logistic regression model\n",
    "* add it to the stages list\n",
    "* instantiate a new Pipeline estimator (not fit) with all of the stages\n",
    "* instantiate an `BinaryClassificationEvaluator`\n",
    "* create parameters to gridsearch through using `ParamGridBuilder`\n",
    "* Instantiate and fit a `CrossValidator` "
   ]
  },
  {
   "cell_type": "code",
   "execution_count": 27,
   "metadata": {},
   "outputs": [],
   "source": [
    "# your code here\n",
    "log_reg = LogisticRegression(featuresCol='features_vector', labelCol='default')\n",
    "# pipeline = Pipeline(stages=string_indexers+[ohe, ohe_last_dropper, vector_assembler, log_reg])\n",
    "pipeline = Pipeline(stages=string_indexers+[ohe, vector_assembler, log_reg])\n",
    "bin_class_eval = BinaryClassificationEvaluator(labelCol='default', metricName='areaUnderROC')\n",
    "\n",
    "log_reg_params = ParamGridBuilder() \\\n",
    "    .addGrid(log_reg.regParam, [0.0,0.2,0.5,1.0]) \\\n",
    "    .addGrid(log_reg.standardization, [True,False]) \\\n",
    "    .build()\n",
    "cv = CrossValidator(\n",
    "    estimator=pipeline, \n",
    "    estimatorParamMaps=log_reg_params,\n",
    "    evaluator=bin_class_eval,\n",
    "    parallelism=4\n",
    ")\n",
    "model = cv.fit(spark_df_done)"
   ]
  },
  {
   "cell_type": "markdown",
   "metadata": {},
   "source": [
    "Determine how well your model performed by looking at the evaluator metrics. If you tried multiple parameters, which performed best?"
   ]
  },
  {
   "cell_type": "code",
   "execution_count": 28,
   "metadata": {},
   "outputs": [
    {
     "name": "stdout",
     "output_type": "stream",
     "text": [
      "best params: {Param(parent='LogisticRegression_4851edccdd68', name='regParam', doc='regularization parameter (>= 0).'): 0.0, Param(parent='LogisticRegression_4851edccdd68', name='standardization', doc='whether to standardize the training features before fitting the model.'): True}\n",
      "AUC: 0.7244476084393011\n"
     ]
    }
   ],
   "source": [
    "# print out the AUC of your best model as well as the parameters of your best model\n",
    "idx_best_model = np.argmax(model.avgMetrics)\n",
    "print(f\"best params: {log_reg_params[idx_best_model]}\")\n",
    "print(f\"AUC: {model.avgMetrics[idx_best_model]}\")"
   ]
  },
  {
   "cell_type": "markdown",
   "metadata": {},
   "source": [
    "#### Now try this again with other classifiers. Try and create a function that will allow you to easily test different models with different parameters. This function is optional, but it should allow for your code to be far more D.R.Y. The function should return the fitted cross-validated model as well as print out the performance metrics of the best performing model and the best parameters."
   ]
  },
  {
   "cell_type": "code",
   "execution_count": 29,
   "metadata": {},
   "outputs": [],
   "source": [
    "# create function to cross validate models with different parameters\n",
    "def build_model(df, label_col, ml_algo, preprocessing_stages, param_grid, eval_metric='areaUnderROC', parallelism=4):\n",
    "    pipeline = Pipeline(stages=preprocessing_stages+[ml_algo])\n",
    "    bin_class_eval = BinaryClassificationEvaluator(labelCol=label_col, metricName=eval_metric)\n",
    "    cross_validator = CrossValidator(\n",
    "        estimator=pipeline, \n",
    "        estimatorParamMaps=param_grid,\n",
    "        evaluator=bin_class_eval,\n",
    "        parallelism=parallelism\n",
    "    )\n",
    "    cv_model = cross_validator.fit(df)\n",
    "    \n",
    "    idx_max_metric_val = np.argmax(cv_model.avgMetrics)\n",
    "    print(f\"best params: {param_grid[idx_max_metric_val]}\")\n",
    "    print(f\"{eval_metric}: {cv_model.avgMetrics[idx_max_metric_val]}\")\n",
    "    \n",
    "    return cv_model"
   ]
  },
  {
   "cell_type": "markdown",
   "metadata": {},
   "source": [
    "Train a Random Forest classifier and determine the best performing model with the best parameters. This might take a while! Be smart about how you use parallelization here."
   ]
  },
  {
   "cell_type": "code",
   "execution_count": 30,
   "metadata": {},
   "outputs": [
    {
     "name": "stdout",
     "output_type": "stream",
     "text": [
      "best params: {Param(parent='RandomForestClassifier_9ddcbfaa7f37', name='maxDepth', doc='Maximum depth of the tree. (>= 0) E.g., depth 0 means 1 leaf node; depth 1 means 1 internal node + 2 leaf nodes.'): 10, Param(parent='RandomForestClassifier_9ddcbfaa7f37', name='numTrees', doc='Number of trees to train (>= 1).'): 200}\n",
      "areaUnderROC: 0.7789673954023715\n"
     ]
    }
   ],
   "source": [
    "# code to train Random Forest Classifier\n",
    "# ⏰ This cell may take a long time to run\n",
    "rf_clf = RandomForestClassifier(featuresCol='features_vector', labelCol='default')\n",
    "rf_clf_params = ParamGridBuilder() \\\n",
    "    .addGrid(rf_clf.maxDepth, [5,10]) \\\n",
    "    .addGrid(rf_clf.numTrees, [20,50,100,200]) \\\n",
    "    .build()\n",
    "\n",
    "rf_clf_cv_model = build_model(\n",
    "    spark_df_done,\n",
    "    label_col='default',\n",
    "    ml_algo=rf_clf,\n",
    "#     preprocessing_stages=string_indexers+[ohe,ohe_last_dropper,vector_assembler],\n",
    "    preprocessing_stages=string_indexers+[ohe,vector_assembler],\n",
    "    param_grid=rf_clf_params\n",
    ")"
   ]
  },
  {
   "cell_type": "markdown",
   "metadata": {},
   "source": [
    "Now train a Gradient Boosting Classifier. **This might take a very long time depending on the number of parameters you are training**"
   ]
  },
  {
   "cell_type": "code",
   "execution_count": 31,
   "metadata": {},
   "outputs": [
    {
     "name": "stdout",
     "output_type": "stream",
     "text": [
      "best params: {Param(parent='GBTClassifier_af30bd127fe6', name='maxDepth', doc='Maximum depth of the tree. (>= 0) E.g., depth 0 means 1 leaf node; depth 1 means 1 internal node + 2 leaf nodes.'): 5, Param(parent='GBTClassifier_af30bd127fe6', name='maxIter', doc='max number of iterations (>= 0).'): 20}\n",
      "areaUnderROC: 0.7769977316061966\n"
     ]
    }
   ],
   "source": [
    "# code to train Gradient Boosting Classifier\n",
    "# ⏰ This cell may take a long time to run\n",
    "gbt_clf = GBTClassifier(featuresCol='features_vector', labelCol='default')\n",
    "gbt_clf_params = ParamGridBuilder() \\\n",
    "    .addGrid(gbt_clf.maxDepth, [1,5]) \\\n",
    "    .addGrid(gbt_clf.maxIter, [20,50,100]) \\\n",
    "    .build()\n",
    "\n",
    "gbt_clf_cv_model = build_model(\n",
    "    spark_df_done,\n",
    "    label_col='default',\n",
    "    ml_algo=gbt_clf,\n",
    "#     preprocessing_stages=string_indexers+[ohe,ohe_last_dropper,vector_assembler],\n",
    "    preprocessing_stages=string_indexers+[ohe,vector_assembler],\n",
    "    param_grid=gbt_clf_params\n",
    ")"
   ]
  },
  {
   "cell_type": "markdown",
   "metadata": {},
   "source": [
    "It looks like the optimal performing model is the Random Forest Classifier Model because it has the highest AUC!\n",
    "\n",
    "## Level Up (Optional)\n",
    "\n",
    "* Create ROC curves for each of these models\n",
    "* Try the multi-layer perceptron classifier algorithm. You will soon learn about what this means in the neural network section!"
   ]
  },
  {
   "cell_type": "markdown",
   "metadata": {},
   "source": [
    "## Summary\n",
    "\n",
    "If you've made it thus far, congratulations! Spark is an in-demand skill, but it is not particularly easy to master. In this lesson, you fit multiple different machine learning pipelines for a classification problem. If you want to take your Spark skills to the next level, connect to a distributed cluster using a service like AWS or Databricks and perform these Spark operations on the cloud."
   ]
  }
 ],
 "metadata": {
  "kernelspec": {
   "display_name": "Python 3",
   "language": "python",
   "name": "python3"
  },
  "language_info": {
   "codemirror_mode": {
    "name": "ipython",
    "version": 3
   },
   "file_extension": ".py",
   "mimetype": "text/x-python",
   "name": "python",
   "nbconvert_exporter": "python",
   "pygments_lexer": "ipython3",
   "version": "3.8.5"
  }
 },
 "nbformat": 4,
 "nbformat_minor": 2
}
